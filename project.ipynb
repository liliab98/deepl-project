{
 "cells": [
  {
   "cell_type": "markdown",
   "metadata": {},
   "source": [
    "# Deep Learning with ResNet50 on HAM10000 Skin data"
   ]
  },
  {
   "cell_type": "markdown",
   "metadata": {},
   "source": [
    "## Libraries and Packages "
   ]
  },
  {
   "cell_type": "code",
   "execution_count": 1,
   "metadata": {},
   "outputs": [],
   "source": [
    "# Standard library imports\n",
    "import os\n",
    "from pathlib import Path\n",
    "\n",
    "# Third-party imports\n",
    "import numpy as np\n",
    "import pandas as pd\n",
    "import matplotlib.pyplot as plt\n",
    "import cv2\n",
    "\n",
    "from imblearn.over_sampling import RandomOverSampler\n",
    "from imblearn.under_sampling import RandomUnderSampler\n",
    "\n",
    "from sklearn.model_selection import train_test_split\n",
    "from sklearn.metrics import confusion_matrix, ConfusionMatrixDisplay, classification_report\n",
    "from sklearn.utils import shuffle, resample\n",
    "from sklearn.utils.class_weight import compute_class_weight\n",
    "\n",
    "from tensorflow.keras.utils import img_to_array\n",
    "from tensorflow.keras.applications.resnet50 import preprocess_input\n",
    "from tensorflow.keras.preprocessing.image import ImageDataGenerator\n",
    "from tensorflow.keras.applications import ResNet50\n",
    "from tensorflow.keras.layers import Dense, GlobalAveragePooling2D, Dropout, BatchNormalization, LeakyReLU\n",
    "from tensorflow.keras.models import Model\n",
    "from tensorflow.keras.optimizers import Adam\n",
    "from tensorflow.keras.callbacks import EarlyStopping, ReduceLROnPlateau, ModelCheckpoint"
   ]
  },
  {
   "cell_type": "markdown",
   "metadata": {},
   "source": [
    "## Data Preparation"
   ]
  },
  {
   "cell_type": "code",
   "execution_count": null,
   "metadata": {},
   "outputs": [
    {
     "ename": "NameError",
     "evalue": "name 'Path' is not defined",
     "output_type": "error",
     "traceback": [
      "\u001b[0;31m---------------------------------------------------------------------------\u001b[0m",
      "\u001b[0;31mNameError\u001b[0m                                 Traceback (most recent call last)",
      "Cell \u001b[0;32mIn[1], line 3\u001b[0m\n\u001b[1;32m      1\u001b[0m \u001b[38;5;66;03m# Define the paths to the data\u001b[39;00m\n\u001b[1;32m      2\u001b[0m \u001b[38;5;66;03m# Download data from https://www.kaggle.com/datasets/kmader/skin-cancer-mnist-ham10000/data\u001b[39;00m\n\u001b[0;32m----> 3\u001b[0m data_path \u001b[38;5;241m=\u001b[39m \u001b[43mPath\u001b[49m(\u001b[38;5;124m'\u001b[39m\u001b[38;5;124m/data/archive/\u001b[39m\u001b[38;5;124m'\u001b[39m)\n\u001b[1;32m      4\u001b[0m csv_path \u001b[38;5;241m=\u001b[39m data_path \u001b[38;5;241m/\u001b[39m \u001b[38;5;124m'\u001b[39m\u001b[38;5;124mHAM10000_metadata.csv\u001b[39m\u001b[38;5;124m'\u001b[39m\n\u001b[1;32m      6\u001b[0m \u001b[38;5;66;03m# Load the data\u001b[39;00m\n",
      "\u001b[0;31mNameError\u001b[0m: name 'Path' is not defined"
     ]
    }
   ],
   "source": [
    "# Define the paths to the data\n",
    "# Download data from https://www.kaggle.com/datasets/kmader/skin-cancer-mnist-ham10000/data\n",
    "# You should have an archive folder with the two images directories and a metadata csv file\n",
    "data_path = Path('/data/archive/')\n",
    "csv_path = data_path / 'HAM10000_metadata.csv'\n",
    "\n",
    "# Load the data\n",
    "df_data = pd.read_csv(csv_path)\n",
    "\n",
    "# Make diagnosis categorical and add a new column for numerical diagnosis\n",
    "df_data.dx = df_data.dx.astype('category')\n",
    "df_data['labels'] = df_data.dx.cat.codes\n",
    "\n",
    "# Add the path to images to the dataframe\n",
    "imageid_path_dict = {str(x).split('/')[-1][:-4]: str(x) for x in list(data_path.glob('*/*.jpg'))}\n",
    "df_data['path'] = df_data['image_id'].map(imageid_path_dict)"
   ]
  },
  {
   "cell_type": "code",
   "execution_count": 3,
   "metadata": {},
   "outputs": [
    {
     "name": "stdout",
     "output_type": "stream",
     "text": [
      "2545 duplicates out of 10015\n"
     ]
    }
   ],
   "source": [
    "# Check for duplicate images for the same lesion_id\n",
    "def check_duplicates(df, col):\n",
    "    unique_list = df[col].unique().tolist()\n",
    "    duplicates_count = len(df) - len(unique_list)\n",
    "    return duplicates_count\n",
    "    \n",
    "duplicates_count = check_duplicates(df_data, 'lesion_id')\n",
    "print(f'{duplicates_count} duplicates out of {len(df_data)}')"
   ]
  },
  {
   "cell_type": "markdown",
   "metadata": {},
   "source": [
    "# Baseline Model"
   ]
  },
  {
   "cell_type": "markdown",
   "metadata": {},
   "source": [
    "## Split into training, validation, test"
   ]
  },
  {
   "cell_type": "code",
   "execution_count": 5,
   "metadata": {},
   "outputs": [
    {
     "name": "stdout",
     "output_type": "stream",
     "text": [
      "Train set: 6706\n",
      "Validation set: 1654\n",
      "Test set: 1655\n"
     ]
    }
   ],
   "source": [
    "# Remove all duplicated lesion id's first and add them after splitting to only the training set\n",
    "\n",
    "# Identify lesion_ids that are duplicated\n",
    "duplicate_lesions = df_data['lesion_id'][df_data['lesion_id'].duplicated()].unique()\n",
    "\n",
    "# Filter out duplicate lesion_ids by selecting only the first occurrence\n",
    "# First, we create a new DataFrame with one image per lesion_id\n",
    "unique_lesions_df = df_data[~df_data['lesion_id'].isin(duplicate_lesions)]\n",
    "# unique_lesions_df = df_data[df_data['lesion_id'].duplicated(keep=False) == False]\n",
    "\n",
    "# Split the data into training, validation, and test sets\n",
    "# Split the data into train and temporary data (for validation and test)\n",
    "train_data, temp_data = train_test_split(\n",
    "    unique_lesions_df, stratify=unique_lesions_df['dx'], test_size=0.6, random_state=42\n",
    ")\n",
    "# Split the temporary data into validation and test sets\n",
    "val_df, test_df = train_test_split(\n",
    "    temp_data, stratify=temp_data['dx'], test_size=0.5, random_state=42\n",
    ")\n",
    "\n",
    "# Add the removed duplicates to the training set\n",
    "# Get the duplicates that we filtered out\n",
    "duplicate_lesions_df = df_data[df_data['lesion_id'].isin(duplicate_lesions)]\n",
    "# Add the duplicates to the training set\n",
    "train_df = pd.concat([train_data, duplicate_lesions_df])\n",
    "\n",
    "# Print the sizes of the final splits\n",
    "print(f\"Train set: {len(train_df)}\")\n",
    "print(f\"Validation set: {len(val_df)}\")\n",
    "print(f\"Test set: {len(test_df)}\")\n"
   ]
  },
  {
   "cell_type": "code",
   "execution_count": 6,
   "metadata": {},
   "outputs": [
    {
     "data": {
      "text/plain": [
       "<Axes: xlabel='labels'>"
      ]
     },
     "execution_count": 6,
     "metadata": {},
     "output_type": "execute_result"
    },
    {
     "data": {
      "image/png": "[encoded data removed]",
      "text/plain": [
       "<Figure size 640x480 with 1 Axes>"
      ]
     },
     "metadata": {},
     "output_type": "display_data"
    }
   ],
   "source": [
    "train_df['labels'].value_counts().plot(kind='bar')"
   ]
  },
  {
   "cell_type": "markdown",
   "metadata": {},
   "source": [
    "## Prepare data generators"
   ]
  },
  {
   "cell_type": "code",
   "execution_count": 7,
   "metadata": {},
   "outputs": [
    {
     "name": "stdout",
     "output_type": "stream",
     "text": [
      "Found 6706 validated image filenames belonging to 7 classes.\n",
      "Found 1654 validated image filenames belonging to 7 classes.\n",
      "Found 1655 validated image filenames belonging to 7 classes.\n"
     ]
    }
   ],
   "source": [
    "# No data augmentation for validation and test set\n",
    "datagen = ImageDataGenerator(preprocessing_function=preprocess_input)\n",
    "\n",
    "# Create generators for each set using the .flow_from_dataframe() method\n",
    "train_generator = datagen.flow_from_dataframe(\n",
    "    dataframe = train_df,\n",
    "    x_col = 'path',\n",
    "    y_col = 'dx',\n",
    "    target_size = (224, 224),\n",
    "    batch_size = 32,\n",
    "    class_mode = 'categorical'\n",
    ")\n",
    "\n",
    "validation_generator = datagen.flow_from_dataframe(\n",
    "    dataframe = val_df,\n",
    "    x_col = 'path',\n",
    "    y_col = 'dx',\n",
    "    target_size = (224, 224),\n",
    "    batch_size = 32,\n",
    "    class_mode = 'categorical',\n",
    "    shuffle = False\n",
    ")\n",
    "\n",
    "test_generator = datagen.flow_from_dataframe(\n",
    "    dataframe = test_df,\n",
    "    x_col = 'path',\n",
    "    y_col = 'dx',\n",
    "    target_size = (224, 224),\n",
    "    batch_size = 32,\n",
    "    class_mode = 'categorical',\n",
    "    shuffle = False\n",
    ")"
   ]
  },
  {
   "cell_type": "markdown",
   "metadata": {},
   "source": [
    "## Early stopping"
   ]
  },
  {
   "cell_type": "code",
   "execution_count": null,
   "metadata": {},
   "outputs": [],
   "source": [
    "early_stopping = EarlyStopping(\n",
    "    monitor='val_loss',\n",
    "    patience=5,\n",
    "    start_from_epoch=10,\n",
    "    restore_best_weights=True,\n",
    ")"
   ]
  },
  {
   "cell_type": "markdown",
   "metadata": {},
   "source": [
    "## ResNet50 Baseline Model"
   ]
  },
  {
   "cell_type": "code",
   "execution_count": null,
   "metadata": {},
   "outputs": [],
   "source": [
    "resnet50_model = ResNet50(\n",
    "    include_top = False,\n",
    "    weights = \"imagenet\",\n",
    "    input_shape = (224, 224, 3)\n",
    ")\n",
    "\n",
    "resnet50_model.trainable = False\n",
    "\n",
    "# Decoder to get the class probabilities\n",
    "x = resnet50_model.output\n",
    "x = GlobalAveragePooling2D()(x)\n",
    "x = Dense(128, activation='relu')(x)\n",
    "predictions = Dense(7, activation='softmax')(x)\n",
    "\n",
    "baseline_model = Model(inputs=resnet50_model.input, outputs=predictions)\n",
    "\n",
    "baseline_model.compile(optimizer = Adam(learning_rate = 0.001), loss = 'categorical_crossentropy', metrics = ['accuracy'])\n"
   ]
  },
  {
   "cell_type": "code",
   "execution_count": null,
   "metadata": {},
   "outputs": [],
   "source": [
    "baseline_history = baseline_model.fit(\n",
    "    train_generator,\n",
    "    epochs = 20,\n",
    "    validation_data = validation_generator,\n",
    "    callbacks = [early_stopping]\n",
    ")"
   ]
  },
  {
   "cell_type": "markdown",
   "metadata": {},
   "source": [
    "## Evaluation"
   ]
  },
  {
   "cell_type": "code",
   "execution_count": null,
   "metadata": {},
   "outputs": [],
   "source": [
    "# Plot accuracy and loss curves\n",
    "def show_history(history):\n",
    "    plt.figure(figsize=(20,6))\n",
    "\n",
    "    # Summarize history for accuracy\n",
    "    plt.subplot(121)\n",
    "    plt.plot(history.history['accuracy'])\n",
    "    plt.plot(history.history['val_accuracy'])\n",
    "    plt.title('model accuracy')\n",
    "    plt.ylabel('accuracy')\n",
    "    plt.xlabel('epoch')\n",
    "    plt.legend(['train', 'test'], loc='upper left')\n",
    "\n",
    "    # Summarize history for loss\n",
    "    plt.subplot(122)\n",
    "    plt.plot(history.history['loss'])\n",
    "    plt.plot(history.history['val_loss'])\n",
    "    plt.title('model loss')\n",
    "    plt.ylabel('loss')\n",
    "    plt.xlabel('epoch')\n",
    "    plt.legend(['train', 'test'], loc='upper left')\n",
    "\n",
    "    plt.show()\n",
    "\n",
    "show_history(baseline_history)"
   ]
  },
  {
   "cell_type": "code",
   "execution_count": null,
   "metadata": {},
   "outputs": [],
   "source": [
    "# Confusion Matrix\n",
    "\n",
    "# # Predict on the validation set\n",
    "y_true = test_generator.classes\n",
    "y_pred = baseline_model.predict(test_generator, steps=len(test_generator), verbose=1)\n",
    "y_pred_classes = np.argmax(y_pred, axis=1)\n",
    "\n",
    "# Compute confusion matrix\n",
    "cm = confusion_matrix(y_true, y_pred_classes)\n",
    "\n",
    "# Plot the confusion matrix\n",
    "disp = ConfusionMatrixDisplay(confusion_matrix=cm)\n",
    "disp.plot(cmap='Blues')\n",
    "plt.title('Confusion Matrix Baseline Model')\n",
    "#plt.show()\n",
    "\n",
    "cm_normalized = cm.astype('float') / cm.sum(axis=1)[:, np.newaxis]\n",
    "disp = ConfusionMatrixDisplay(confusion_matrix=cm_normalized)\n",
    "disp.plot(cmap='Blues', values_format='.2f')\n",
    "plt.title('Baseline Model Normalized Confusion Matrix')\n",
    "plt.show()"
   ]
  },
  {
   "cell_type": "code",
   "execution_count": null,
   "metadata": {},
   "outputs": [],
   "source": [
    "print(classification_report(y_true, y_pred_classes))"
   ]
  },
  {
   "cell_type": "code",
   "execution_count": null,
   "metadata": {},
   "outputs": [],
   "source": [
    "# Evaluate the model on the test set\n",
    "test_loss, test_accuracy = baseline_model.evaluate(test_generator, steps=len(test_generator))\n",
    "\n",
    "print(f\"Baseline Model Test Loss: {test_loss}\")\n",
    "print(f\"Baseline Model Test Accuracy: {test_accuracy}\")"
   ]
  },
  {
   "cell_type": "markdown",
   "metadata": {},
   "source": [
    "# Partially Balanced"
   ]
  },
  {
   "cell_type": "markdown",
   "metadata": {},
   "source": [
    "## Split into training, validation, test"
   ]
  },
  {
   "cell_type": "code",
   "execution_count": 13,
   "metadata": {},
   "outputs": [
    {
     "name": "stdout",
     "output_type": "stream",
     "text": [
      "Train set: 7809\n",
      "Validation set: 1103\n",
      "Test set: 1103\n"
     ]
    }
   ],
   "source": [
    "# Remove all duplicated lesion id's first and add them after splitting to only the training set\n",
    "\n",
    "# Identify lesion_ids that are duplicated\n",
    "duplicate_lesions = df_data['lesion_id'][df_data['lesion_id'].duplicated()].unique()\n",
    "\n",
    "# Filter out duplicate lesion_ids\n",
    "unique_lesions_df = df_data[~df_data['lesion_id'].isin(duplicate_lesions)]\n",
    "# unique_lesions_df = df_data[df_data['lesion_id'].duplicated(keep=False) == False]\n",
    "\n",
    "# Split the data into training, validation, and test sets\n",
    "# Split the data into train and temporary data (for validation and test)\n",
    "train_data, temp_data = train_test_split(\n",
    "    unique_lesions_df, stratify=unique_lesions_df['dx'], test_size=0.4, random_state=42\n",
    ")\n",
    "# Split the temporary data into validation and test sets\n",
    "val_df, test_df = train_test_split(\n",
    "    temp_data, stratify=temp_data['dx'], test_size=0.5, random_state=42\n",
    ")\n",
    "\n",
    "# Add the removed duplicates to the training set\n",
    "# Get the duplicates that we filtered out\n",
    "duplicate_lesions_df = df_data[df_data['lesion_id'].isin(duplicate_lesions)]\n",
    "# Add the duplicates to the training set\n",
    "train_df = pd.concat([train_data, duplicate_lesions_df])\n",
    "\n",
    "# Print the sizes of the final splits\n",
    "print(f\"Train set: {len(train_df)}\")\n",
    "print(f\"Validation set: {len(val_df)}\")\n",
    "print(f\"Test set: {len(test_df)}\")\n"
   ]
  },
  {
   "cell_type": "markdown",
   "metadata": {},
   "source": [
    "## Balance by reducing only the size of the biggest class"
   ]
  },
  {
   "cell_type": "code",
   "execution_count": 14,
   "metadata": {},
   "outputs": [],
   "source": [
    "# Keep only 1/5th of the images from the majority class in the training set\n",
    "majority_class = train_df['labels'].value_counts().idxmax()\n",
    "majority_class_count = train_df['labels'].value_counts()[majority_class]\n",
    "target_count = majority_class_count / 5\n",
    "\n",
    "majority_class_subset = train_df[train_df['labels'] == majority_class].sample(\n",
    "    n=int(target_count), random_state=42\n",
    ")\n",
    "other_classes_subset = train_df[train_df['labels'] != majority_class]\n",
    "\n",
    "train_df_balanced = pd.concat([majority_class_subset, other_classes_subset])\n",
    "\n",
    "# Shuffle\n",
    "train_df_balanced = train_df_balanced.sample(frac=1, random_state=42).reset_index(drop=True)"
   ]
  },
  {
   "cell_type": "code",
   "execution_count": 15,
   "metadata": {},
   "outputs": [
    {
     "name": "stdout",
     "output_type": "stream",
     "text": [
      "Train set: 3857\n",
      "Validation set: 1103\n",
      "Test set: 1103\n"
     ]
    }
   ],
   "source": [
    "# Print the sizes of the final splits\n",
    "print(f\"Train set: {len(train_df_balanced)}\")\n",
    "print(f\"Validation set: {len(val_df)}\")\n",
    "print(f\"Test set: {len(test_df)}\")"
   ]
  },
  {
   "cell_type": "code",
   "execution_count": 16,
   "metadata": {},
   "outputs": [
    {
     "data": {
      "text/plain": [
       "<Axes: xlabel='labels'>"
      ]
     },
     "execution_count": 16,
     "metadata": {},
     "output_type": "execute_result"
    },
    {
     "data": {
      "image/png": "[encoded data removed]",
      "text/plain": [
       "<Figure size 640x480 with 1 Axes>"
      ]
     },
     "metadata": {},
     "output_type": "display_data"
    }
   ],
   "source": [
    "train_df_balanced['labels'].value_counts().plot(kind='bar')"
   ]
  },
  {
   "cell_type": "markdown",
   "metadata": {},
   "source": [
    "## Prepare data generators"
   ]
  },
  {
   "cell_type": "code",
   "execution_count": 17,
   "metadata": {},
   "outputs": [
    {
     "name": "stdout",
     "output_type": "stream",
     "text": [
      "Found 3857 validated image filenames belonging to 7 classes.\n",
      "Found 1103 validated image filenames belonging to 7 classes.\n",
      "Found 1103 validated image filenames belonging to 7 classes.\n"
     ]
    }
   ],
   "source": [
    "train_datagen = ImageDataGenerator(\n",
    "    preprocessing_function=preprocess_input,\n",
    "    rotation_range=10,\n",
    "    width_shift_range=0.1,\n",
    "    height_shift_range=0.1,\n",
    "    shear_range=0.1,\n",
    "    zoom_range=0.1,\n",
    "    horizontal_flip=True,\n",
    "    brightness_range = [0.8, 1.2],\n",
    "    fill_mode='nearest'\n",
    ")\n",
    "# No data augmentation for validation and test set\n",
    "val_test_datagen = ImageDataGenerator(preprocessing_function=preprocess_input)\n",
    "\n",
    "\n",
    "# Create generators for each set using the .flow_from_dataframe() method\n",
    "train_generator = train_datagen.flow_from_dataframe(\n",
    "    dataframe = train_df_balanced,\n",
    "    x_col = 'path',\n",
    "    y_col = 'dx',\n",
    "    target_size = (224, 224), # Resize images to 224x224 (ResNet input size)\n",
    "    batch_size = 32,\n",
    "    class_mode = 'categorical'\n",
    ")\n",
    "\n",
    "validation_generator = val_test_datagen.flow_from_dataframe(\n",
    "    dataframe = val_df,\n",
    "    x_col = 'path',\n",
    "    y_col = 'dx',\n",
    "    target_size = (224, 224),\n",
    "    batch_size = 32,\n",
    "    class_mode = 'categorical',\n",
    "    shuffle = False\n",
    ")\n",
    "\n",
    "test_generator = val_test_datagen.flow_from_dataframe(\n",
    "    dataframe = test_df,\n",
    "    x_col = 'path',\n",
    "    y_col = 'dx',\n",
    "    target_size = (224, 224),\n",
    "    batch_size = 32,\n",
    "    class_mode = 'categorical',\n",
    "    shuffle = False\n",
    ")"
   ]
  },
  {
   "cell_type": "markdown",
   "metadata": {},
   "source": [
    "## Create model"
   ]
  },
  {
   "cell_type": "code",
   "execution_count": null,
   "metadata": {},
   "outputs": [],
   "source": [
    "# Instantiate base model with pre-trained weights\n",
    "base_model = ResNet50(\n",
    "    include_top = False,\n",
    "    weights = \"imagenet\",\n",
    "    input_shape = (224, 224, 3)\n",
    ")\n",
    "\n",
    "# Freeze base model\n",
    "base_model.trainable = False\n",
    "\n",
    "# Create decoder on top of the base model\n",
    "x = base_model.output\n",
    "x = GlobalAveragePooling2D()(x)\n",
    "x = Dense(128, activation='relu')(x)\n",
    "x = Dropout(rate=0.5)(x)\n",
    "predictions = Dense(7, activation='softmax')(x)\n",
    "\n",
    "model = Model(inputs=base_model.input, outputs=predictions)"
   ]
  },
  {
   "cell_type": "markdown",
   "metadata": {},
   "source": [
    "## Calculating class weights"
   ]
  },
  {
   "cell_type": "code",
   "execution_count": null,
   "metadata": {},
   "outputs": [],
   "source": [
    "from sklearn.utils.class_weight import compute_class_weight\n",
    "\n",
    "class_weights = compute_class_weight(\n",
    "    class_weight='balanced',\n",
    "    classes=np.unique(train_df_balanced['dx']),\n",
    "    y=train_df_balanced['dx']\n",
    ")\n",
    "class_weights = dict(enumerate(class_weights))"
   ]
  },
  {
   "cell_type": "markdown",
   "metadata": {},
   "source": [
    "## Train model"
   ]
  },
  {
   "cell_type": "code",
   "execution_count": null,
   "metadata": {},
   "outputs": [],
   "source": [
    "model.compile(optimizer = Adam(learning_rate = 0.001), loss = 'categorical_crossentropy', metrics = ['accuracy'])\n",
    "\n",
    "early_stopping = EarlyStopping(\n",
    "    monitor='val_loss',\n",
    "    patience=5,\n",
    "    restore_best_weights=True,\n",
    "    start_from_epoch=10,\n",
    "    verbose=1\n",
    ")\n",
    "\n",
    "history = model.fit(\n",
    "    train_generator,\n",
    "    epochs = 30,\n",
    "    validation_data = validation_generator,\n",
    "    class_weight = class_weights,\n",
    "    callbacks = [early_stopping]\n",
    ")"
   ]
  },
  {
   "cell_type": "markdown",
   "metadata": {},
   "source": [
    "## Finetuning"
   ]
  },
  {
   "cell_type": "code",
   "execution_count": null,
   "metadata": {},
   "outputs": [],
   "source": [
    "for layer in base_model.layers:\n",
    "    if \"conv5\" in layer.name or \"bn5\" in layer.name:\n",
    "        layer.trainable = True\n",
    "\n",
    "model.compile(optimizer = Adam(learning_rate = 0.00001), loss = 'categorical_crossentropy', metrics = ['accuracy'])\n",
    "\n",
    "history = model.fit(\n",
    "    train_generator,\n",
    "    epochs = 20,\n",
    "    validation_data = validation_generator,\n",
    "    class_weight = class_weights,\n",
    "    callbacks = [early_stopping],\n",
    ")"
   ]
  },
  {
   "cell_type": "markdown",
   "metadata": {},
   "source": [
    "## Evaluation"
   ]
  },
  {
   "cell_type": "code",
   "execution_count": null,
   "metadata": {},
   "outputs": [],
   "source": [
    "def show_history(history):\n",
    "    plt.figure(figsize=(20,6))\n",
    "\n",
    "    # Summarize history for accuracy\n",
    "    plt.subplot(121)\n",
    "    plt.plot(history.history['accuracy'])\n",
    "    plt.plot(history.history['val_accuracy'])\n",
    "    plt.title('Partially Balanced Model Accuracy After Fine-Tuning')\n",
    "    plt.ylabel('accuracy')\n",
    "    plt.xlabel('epoch')\n",
    "    plt.legend(['train', 'validation'], loc='upper left')\n",
    "\n",
    "    # Summarize history for loss\n",
    "    plt.subplot(122)\n",
    "    plt.plot(history.history['loss'])\n",
    "    plt.plot(history.history['val_loss'])\n",
    "    plt.title('Partially Balanced Model Loss After Fine-Tuning')\n",
    "    plt.ylabel('loss')\n",
    "    plt.xlabel('epoch')\n",
    "    plt.legend(['train', 'validation'], loc='upper left')\n",
    "\n",
    "    plt.show()\n",
    "\n",
    "show_history(history)"
   ]
  },
  {
   "cell_type": "code",
   "execution_count": null,
   "metadata": {},
   "outputs": [],
   "source": [
    "# Predict on the test set\n",
    "y_true = test_generator.classes\n",
    "y_pred = model.predict(test_generator, steps=len(test_generator), verbose=1)\n",
    "y_pred_classes = np.argmax(y_pred, axis=1)\n",
    "\n",
    "# Compute confusion matrix\n",
    "cm = confusion_matrix(y_true, y_pred_classes)\n",
    "\n",
    "cm_normalized = cm.astype('float') / cm.sum(axis=1)[:, np.newaxis]\n",
    "disp = ConfusionMatrixDisplay(confusion_matrix=cm_normalized)\n",
    "disp.plot(cmap='Blues', values_format='.2f')\n",
    "plt.title('Completely Balanced Test Normalized Confusion Matrix')\n",
    "plt.show()\n"
   ]
  },
  {
   "cell_type": "code",
   "execution_count": null,
   "metadata": {},
   "outputs": [],
   "source": [
    "print(classification_report(y_true, y_pred_classes))"
   ]
  },
  {
   "cell_type": "code",
   "execution_count": null,
   "metadata": {},
   "outputs": [],
   "source": [
    "# Evaluate the model on the test set\n",
    "test_loss, test_accuracy = model.evaluate(test_generator, steps=len(test_generator))\n",
    "\n",
    "print(f\"Test Loss: {test_loss}\")\n",
    "print(f\"Test Accuracy: {test_accuracy}\")"
   ]
  },
  {
   "cell_type": "markdown",
   "metadata": {},
   "source": [
    "# Completely Balanced"
   ]
  },
  {
   "cell_type": "markdown",
   "metadata": {},
   "source": [
    "## Split into training, validation and test sets"
   ]
  },
  {
   "cell_type": "code",
   "execution_count": null,
   "metadata": {},
   "outputs": [],
   "source": [
    "# Remove all duplicated lesion id's first and add them after splitting to only the training set\n",
    "\n",
    "# Identify lesion_ids that are duplicated\n",
    "duplicate_lesions = df_data['lesion_id'][df_data['lesion_id'].duplicated()].unique()\n",
    "\n",
    "# Filter out duplicate lesion_ids\n",
    "unique_lesions_df = df_data[~df_data['lesion_id'].isin(duplicate_lesions)]\n",
    "# unique_lesions_df = df_data[df_data['lesion_id'].duplicated(keep=False) == False]\n",
    "\n",
    "# Split the data into training, validation, and test sets\n",
    "# Split the data into train and temporary data (for validation and test)\n",
    "train_data, temp_data = train_test_split(\n",
    "    unique_lesions_df, stratify=unique_lesions_df['dx'], test_size=0.4, random_state=42\n",
    ")\n",
    "# Split the temporary data into validation and test sets\n",
    "val_df, test_df = train_test_split(\n",
    "    temp_data, stratify=temp_data['dx'], test_size=0.5, random_state=42\n",
    ")\n",
    "\n",
    "# Add the removed duplicates to the training set\n",
    "# Get the duplicates that we filtered out\n",
    "duplicate_lesions_df = df_data[df_data['lesion_id'].isin(duplicate_lesions)]\n",
    "# Add the duplicates to the training set\n",
    "train_df = pd.concat([train_data, duplicate_lesions_df])\n",
    "\n",
    "# Print the sizes of the final splits\n",
    "print(f\"Train set: {len(train_df)}\")\n",
    "print(f\"Validation set: {len(val_df)}\")\n",
    "print(f\"Test set: {len(test_df)}\")\n"
   ]
  },
  {
   "cell_type": "code",
   "execution_count": null,
   "metadata": {},
   "outputs": [],
   "source": [
    "train_df['labels'].value_counts().plot(kind='bar')"
   ]
  },
  {
   "cell_type": "markdown",
   "metadata": {},
   "source": [
    "## Balance by reducing all classes to the same size"
   ]
  },
  {
   "cell_type": "code",
   "execution_count": null,
   "metadata": {},
   "outputs": [],
   "source": [
    "print(train_df['dx'].value_counts())\n",
    "print(val_df['dx'].value_counts())\n",
    "print(test_df['dx'].value_counts())\n"
   ]
  },
  {
   "cell_type": "code",
   "execution_count": null,
   "metadata": {},
   "outputs": [],
   "source": [
    "# Downsample all classes to 70 samples each\n",
    "def downsample_dataframe(dataframe, target_column='dx', n_samples=50):\n",
    "    # Separate each class\n",
    "    classes = dataframe[target_column].unique()\n",
    "    class_dfs = [dataframe[dataframe[target_column] == cls] for cls in classes]\n",
    "\n",
    "    # Downsample each class to n_samples\n",
    "    downsampled_dfs = [\n",
    "        resample(cls_df, replace=False, n_samples=n_samples, random_state=42)\n",
    "        for cls_df in class_dfs\n",
    "    ]\n",
    "\n",
    "    # Combine back into a single dataframe\n",
    "    downsampled_dataframe = pd.concat(downsampled_dfs, axis=0).sample(frac=1, random_state=42)  # Shuffle\n",
    "    return downsampled_dataframe\n",
    "\n",
    "# Downsample the training dataset\n",
    "train_df_balanced = downsample_dataframe(train_df, target_column='dx', n_samples=99)\n",
    "print(\"Class distribution after downsampling:\")\n",
    "print(train_df_balanced['dx'].value_counts())\n"
   ]
  },
  {
   "cell_type": "code",
   "execution_count": null,
   "metadata": {},
   "outputs": [],
   "source": [
    "train_df_balanced['dx'].value_counts().plot(kind='bar')"
   ]
  },
  {
   "cell_type": "markdown",
   "metadata": {},
   "source": [
    "## Prepare data generators"
   ]
  },
  {
   "cell_type": "code",
   "execution_count": null,
   "metadata": {},
   "outputs": [],
   "source": [
    "train_datagen = ImageDataGenerator(\n",
    "    preprocessing_function=preprocess_input,\n",
    "    rotation_range=10,\n",
    "    width_shift_range=0.1,\n",
    "    height_shift_range=0.1,\n",
    "    shear_range=0.1,\n",
    "    zoom_range=0.1,\n",
    "    horizontal_flip=True,\n",
    "    brightness_range = [0.8, 1.2],\n",
    "    fill_mode='nearest'\n",
    ")\n",
    "# No data augmentation for validation and test set\n",
    "val_test_datagen = ImageDataGenerator(preprocessing_function=preprocess_input)\n",
    "\n",
    "\n",
    "# Create generators for each set using the .flow_from_dataframe() method\n",
    "train_generator = train_datagen.flow_from_dataframe(\n",
    "    dataframe = train_df_balanced,\n",
    "    x_col = 'path',\n",
    "    y_col = 'dx',\n",
    "    target_size = (224, 224),\n",
    "    batch_size = 32,\n",
    "    class_mode = 'categorical'\n",
    ")\n",
    "\n",
    "validation_generator = val_test_datagen.flow_from_dataframe(\n",
    "    dataframe = val_df,\n",
    "    x_col = 'path',\n",
    "    y_col = 'dx',\n",
    "    target_size = (224, 224),\n",
    "    batch_size = 32,\n",
    "    class_mode = 'categorical',\n",
    "    shuffle = False\n",
    ")\n",
    "\n",
    "test_generator = val_test_datagen.flow_from_dataframe(\n",
    "    dataframe = test_df,\n",
    "    x_col = 'path',\n",
    "    y_col = 'dx',\n",
    "    target_size = (224, 224),\n",
    "    batch_size = 32,\n",
    "    class_mode = 'categorical',\n",
    "    shuffle = False\n",
    ")"
   ]
  },
  {
   "cell_type": "markdown",
   "metadata": {},
   "source": [
    "## Create model"
   ]
  },
  {
   "cell_type": "code",
   "execution_count": null,
   "metadata": {},
   "outputs": [],
   "source": [
    "# Instantiate base model with pre-trained weights\n",
    "resnet50_model = ResNet50(\n",
    "    include_top = False,\n",
    "    weights = \"imagenet\",\n",
    "    input_shape = (224, 224, 3)\n",
    ")\n",
    "\n",
    "# Freeze base model\n",
    "resnet50_model.trainable = False\n",
    "\n",
    "# Create decoder on top of the base model\n",
    "x = resnet50_model.output\n",
    "x = GlobalAveragePooling2D()(x)\n",
    "#x = Dense(128)(x)\n",
    "#x = LeakyReLU(alpha=0.1)(x)\n",
    "x = Dense(128, activation='relu')(x)\n",
    "x = Dropout(0.5)(x)\n",
    "predictions = Dense(7, activation='softmax')(x)\n",
    "\n",
    "model = Model(inputs=resnet50_model.input, outputs=predictions)\n",
    "\n",
    "model.compile(optimizer = Adam(learning_rate = 0.001), loss = 'categorical_crossentropy', metrics = ['accuracy'])\n",
    "\n",
    "#model.summary()"
   ]
  },
  {
   "cell_type": "markdown",
   "metadata": {},
   "source": [
    "## Calculating class weights"
   ]
  },
  {
   "cell_type": "code",
   "execution_count": null,
   "metadata": {},
   "outputs": [],
   "source": [
    "class_weights = compute_class_weight(\n",
    "    class_weight='balanced',\n",
    "    classes=np.unique(train_df_balanced['dx']),\n",
    "    y=train_df_balanced['dx']\n",
    ")\n",
    "class_weights = dict(enumerate(class_weights))"
   ]
  },
  {
   "cell_type": "markdown",
   "metadata": {},
   "source": [
    "## Early stopping"
   ]
  },
  {
   "cell_type": "code",
   "execution_count": null,
   "metadata": {},
   "outputs": [],
   "source": [
    "early_stopping = EarlyStopping(\n",
    "    monitor='val_loss',\n",
    "    patience=5,\n",
    "    start_from_epoch=10,\n",
    "    restore_best_weights=True,\n",
    ")"
   ]
  },
  {
   "cell_type": "markdown",
   "metadata": {},
   "source": [
    "## Train model"
   ]
  },
  {
   "cell_type": "code",
   "execution_count": null,
   "metadata": {},
   "outputs": [],
   "source": [
    "history = model.fit(\n",
    "    train_generator,\n",
    "    epochs = 30,\n",
    "    validation_data = validation_generator,\n",
    "    callbacks = [early_stopping],\n",
    "    class_weight = class_weights\n",
    ")"
   ]
  },
  {
   "cell_type": "markdown",
   "metadata": {},
   "source": [
    "## Fine-tuning"
   ]
  },
  {
   "cell_type": "code",
   "execution_count": null,
   "metadata": {},
   "outputs": [],
   "source": [
    "# Optionally unfreeze specific layers\n",
    "for layer in resnet50_model.layers:\n",
    "    if \"conv5\" in layer.name or \"bn5\" in layer.name:\n",
    "        layer.trainable = True\n",
    "\n",
    "model.compile(optimizer = Adam(learning_rate = 0.00001), loss = 'categorical_crossentropy', metrics = ['accuracy'])\n",
    "\n",
    "history = model.fit(\n",
    "    train_generator,\n",
    "    epochs = 20,\n",
    "    validation_data = validation_generator,\n",
    "    callbacks = [early_stopping],\n",
    "    class_weight = class_weights\n",
    ")"
   ]
  },
  {
   "cell_type": "markdown",
   "metadata": {},
   "source": [
    "## Evaluate model"
   ]
  },
  {
   "cell_type": "code",
   "execution_count": null,
   "metadata": {},
   "outputs": [],
   "source": [
    "# Plot accuracy and loss curves\n",
    "def show_history(history):\n",
    "    plt.figure(figsize=(20,6))\n",
    "\n",
    "    # Summarize history for accuracy\n",
    "    plt.subplot(121)\n",
    "    plt.plot(history.history['accuracy'])\n",
    "    plt.plot(history.history['val_accuracy'])\n",
    "    plt.title('Completely Balanced Model Accuracy After Fine-Tuning')\n",
    "    plt.ylabel('accuracy')\n",
    "    plt.xlabel('epoch')\n",
    "    plt.legend(['train', 'validation'], loc='upper left')\n",
    "\n",
    "    # Summarize history for loss\n",
    "    plt.subplot(122)\n",
    "    plt.plot(history.history['loss'])\n",
    "    plt.plot(history.history['val_loss'])\n",
    "    plt.title('Completely Balanced Model Loss After Fine-Tuning')\n",
    "    plt.ylabel('loss')\n",
    "    plt.xlabel('epoch')\n",
    "    plt.legend(['train', 'validation'], loc='upper left')\n",
    "\n",
    "    plt.show()\n",
    "\n",
    "show_history(history)"
   ]
  },
  {
   "cell_type": "code",
   "execution_count": null,
   "metadata": {},
   "outputs": [],
   "source": [
    "# Predict on the test set\n",
    "y_true = test_generator.classes\n",
    "y_pred = model.predict(test_generator, steps=len(test_generator), verbose=1)\n",
    "y_pred_classes = np.argmax(y_pred, axis=1)\n",
    "\n",
    "# Compute confusion matrix\n",
    "cm = confusion_matrix(y_true, y_pred_classes)\n",
    "\n",
    "cm_normalized = cm.astype('float') / cm.sum(axis=1)[:, np.newaxis]\n",
    "disp = ConfusionMatrixDisplay(confusion_matrix=cm_normalized)\n",
    "disp.plot(cmap='Blues', values_format='.2f')\n",
    "plt.title('Completely Balanced Test Normalized Confusion Matrix')\n",
    "plt.show()\n"
   ]
  },
  {
   "cell_type": "code",
   "execution_count": null,
   "metadata": {},
   "outputs": [],
   "source": [
    "print(classification_report(y_true, y_pred_classes))"
   ]
  },
  {
   "cell_type": "code",
   "execution_count": null,
   "metadata": {},
   "outputs": [],
   "source": [
    "# Evaluate the model on the test set\n",
    "test_loss, test_accuracy = model.evaluate(test_generator, steps=len(test_generator))\n",
    "\n",
    "print(f\"Test Loss: {test_loss}\")\n",
    "print(f\"Test Accuracy: {test_accuracy}\")"
   ]
  }
 ],
 "metadata": {
  "kernelspec": {
   "display_name": "deeplproject",
   "language": "python",
   "name": "python3"
  },
  "language_info": {
   "codemirror_mode": {
    "name": "ipython",
    "version": 3
   },
   "file_extension": ".py",
   "mimetype": "text/x-python",
   "name": "python",
   "nbconvert_exporter": "python",
   "pygments_lexer": "ipython3",
   "version": "3.9.10"
  }
 },
 "nbformat": 4,
 "nbformat_minor": 2
}
